{
 "cells": [
  {
   "cell_type": "code",
   "execution_count": null,
   "id": "8915f4d3-5f6d-42a4-94dc-cdf4f179abd4",
   "metadata": {},
   "outputs": [],
   "source": [
    "import numpy as np\n",
    "import matplotlib.pyplot as plt\n",
    "import pandas as pd \n",
    "from numpy.fft import fft, ifft \n",
    "from scipy import signal,stats\n",
    "from scipy.io import loadmat\n",
    "import os "
   ]
  },
  {
   "cell_type": "code",
   "execution_count": null,
   "id": "bdc8a126-de84-41f5-9905-37f4882f0a73",
   "metadata": {},
   "outputs": [],
   "source": [
    "path_python_code = os.getcwd()\n",
    "path_data = os.path.join(path_python_code,'data/')\n",
    "A_mat = loadmat(path_data+'/A.mat')\n",
    "B_mat = loadmat(path_data+'/B.mat')\n",
    "C_mat = loadmat(path_data+'/C.mat')\n",
    "E_mat = loadmat(path_data+'/E.mat')"
   ]
  },
  {
   "cell_type": "code",
   "execution_count": null,
   "id": "decc70dd-5602-4ea1-b8de-e9b329f178c0",
   "metadata": {},
   "outputs": [],
   "source": [
    "A_data = A_mat.get('A')\n",
    "B_data = B_mat.get('B')\n",
    "C_data = C_mat.get('C')\n",
    "E_data = E_mat.get('E')"
   ]
  },
  {
   "cell_type": "code",
   "execution_count": null,
   "id": "61a4b2ed-68e9-4c9c-a025-5833305d11d7",
   "metadata": {},
   "outputs": [],
   "source": [
    "fs = 173.61\n",
    "N = 4097\n",
    "rf = np.linspace(0,fs/2,int(np.round(N/2)))\n",
    "rf_total_frequency = np.concatenate((rf,rf[::-1]))"
   ]
  },
  {
   "cell_type": "code",
   "execution_count": null,
   "id": "4073bbda-a47b-4d6d-a5a8-8a56f4f8e173",
   "metadata": {},
   "outputs": [],
   "source": [
    "#fft gereftan az yeki az signalha without city noise\n",
    "sigA = A_data[:,0]\n",
    "sigB = B_data[:,1]\n",
    "sigC = C_data[:,1]\n",
    "sigE = E_data[:,1]\n",
    "\n",
    "\n",
    "FA = fft(sigA,N)\n",
    "FB = fft(sigB,N)\n",
    "FC = fft(sigC,N)\n",
    "FE = fft(sigE,N)\n",
    "\n",
    "plt.figure(figsize=(12,8),dpi = 300)\n",
    "plt.subplot(2,2,1)\n",
    "plt.plot(rf,np.abs(FA[:rf.shape[0]]),label='A')\n",
    "plt.legend()\n",
    "plt.subplot(2,2,2)\n",
    "plt.plot(rf,np.abs(FB[:rf.shape[0]]),label='B')\n",
    "plt.legend()\n",
    "plt.subplot(2,2,3)\n",
    "plt.plot(rf,np.abs(FC[:rf.shape[0]]),label='C')\n",
    "plt.legend()\n",
    "plt.subplot(2,2,4)\n",
    "plt.plot(rf,np.abs(FE[:rf.shape[0]]),label='E')\n",
    "plt.legend()\n",
    "plt.show()"
   ]
  },
  {
   "cell_type": "code",
   "execution_count": null,
   "id": "79b5ac1c-649a-4b5b-b4fb-fdd510c1d40c",
   "metadata": {},
   "outputs": [],
   "source": [
    "#denoising for one signal\n",
    "f_nyq = fs/2\n",
    "Wn = [49.5,51]/np.float_(f_nyq)\n",
    "(b,a) = signal.butter(4, Wn, btype='bandstop', output='ba')\n",
    "sigA_dn = signal.filtfilt(b,a,sigB)\n",
    "FA_dn = fft(sigA_dn,N)\n",
    "plt.figure(figsize=(12,8),dpi = 300)\n",
    "plt.subplot(1,2,1)\n",
    "plt.plot(rf,np.abs(FB[:rf.shape[0]]),label='A')\n",
    "plt.legend()\n",
    "plt.subplot(1,2,2)\n",
    "plt.plot(rf,np.abs(FA_dn[:rf.shape[0]]),label='B')\n",
    "plt.show()\n"
   ]
  },
  {
   "cell_type": "code",
   "execution_count": null,
   "id": "b0a7273e-8feb-4870-ab1f-e18a94b3a231",
   "metadata": {},
   "outputs": [],
   "source": [
    "##zeros matrix for save denoisy signal\n",
    "zerosA = np.zeros_like(A_data)\n",
    "zerosB = np.zeros_like(B_data)\n",
    "zerosC = np.zeros_like(C_data)\n",
    "zerosE = np.zeros_like(E_data)\n",
    "\n",
    "f_nyq = fs/2\n",
    "Wn = [49.5,51]/np.float_(f_nyq)\n",
    "(b,a) = signal.butter(4, Wn, btype='bandstop', output='ba')\n",
    "\n",
    "for i in range(100):\n",
    "    sigA = A_data[:,i]\n",
    "    sigB = B_data[:,i]\n",
    "    sigC = C_data[:,i]\n",
    "    sigE = E_data[:,i]\n",
    "\n",
    "    sigA_dn = signal.filtfilt(b,a,sigA)\n",
    "    sigB_dn = signal.filtfilt(b,a,sigB)\n",
    "    sigC_dn = signal.filtfilt(b,a,sigC)\n",
    "    sigE_dn = signal.filtfilt(b,a,sigE)\n",
    "\n",
    "    zerosA[:,i] = sigA_dn\n",
    "    zerosB[:,i] = sigB_dn\n",
    "    zerosC[:,i] = sigC_dn\n",
    "    zerosE[:,i] = sigE_dn\n",
    "\n",
    "    \n",
    "         \n"
   ]
  },
  {
   "cell_type": "code",
   "execution_count": null,
   "id": "82ac146d-9a23-41e5-b004-7d1db3a97365",
   "metadata": {},
   "outputs": [],
   "source": [
    "#feature extraction in time domain for each EEG signal\n",
    "# mean var skewness kurtosis Antropi Power\n",
    "\n",
    "    "
   ]
  }
 ],
 "metadata": {
  "kernelspec": {
   "display_name": "Python 3 (ipykernel)",
   "language": "python",
   "name": "python3"
  },
  "language_info": {
   "codemirror_mode": {
    "name": "ipython",
    "version": 3
   },
   "file_extension": ".py",
   "mimetype": "text/x-python",
   "name": "python",
   "nbconvert_exporter": "python",
   "pygments_lexer": "ipython3",
   "version": "3.10.12"
  }
 },
 "nbformat": 4,
 "nbformat_minor": 5
}
